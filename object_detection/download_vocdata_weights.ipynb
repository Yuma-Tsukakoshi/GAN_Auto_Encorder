{
 "cells": [
  {
   "cell_type": "markdown",
   "metadata": {},
   "source": [
    "SSD: Single Shot MultiBox Detector → バウンディングボックスを用いた物体検出モデル\n",
    "\n",
    "VOC: Visual Object Classes → カテゴリ、クラスの数、クラスが格納されているデータセット\n"
   ]
  },
  {
   "cell_type": "code",
   "execution_count": 8,
   "metadata": {},
   "outputs": [],
   "source": [
    "\"\"\"\n",
    "1. データセット用フォルダ「data」と\n",
    "学習済みの重み用のフォルダー「weights」を作成する\n",
    "\"\"\"\n",
    "\n",
    "import os\n",
    "\n",
    "data_dir = './data/'\n",
    "if not os.path.exists(data_dir):\n",
    "    os.mkdir(data_dir)\n",
    "\n",
    "weight_dir = './weights/'\n",
    "if not os.path.exists(weight_dir):\n",
    "    os.mkdir(weight_dir)"
   ]
  },
  {
   "cell_type": "code",
   "execution_count": 9,
   "metadata": {},
   "outputs": [
    {
     "name": "stdout",
     "output_type": "stream",
     "text": [
      "CPU times: user 8 µs, sys: 0 ns, total: 8 µs\n",
      "Wall time: 8.82 µs\n"
     ]
    }
   ],
   "source": [
    "%%time\n",
    "\"\"\"\n",
    "2. VOC2012のデータセットをダウンロードする\n",
    "\"\"\"\n",
    "\n",
    "import urllib.request\n",
    "import tarfile\n",
    "\n",
    "url = 'http://host.robots.ox.ac.uk/pascal/VOC/voc2012/VOCtrainval_11-May-2012.tar'\n",
    "target_path = os.path.join( data_dir, 'VOCtrainval_11-May-2012.tar')\n",
    "\n",
    "# if not os.path.exists(target_path):\n",
    "#     # urlにアクセスして、target_pathに保存する\n",
    "#     urllib.request.urlretrieve(url, target_path)\n",
    "#     tar = tarfile.TarFile(target_path) # tarファイルを読み込む\n",
    "#     tar.extractall(data_dir)  # tarファイルを解凍 extractall:全て解凍\n",
    "#     trafile.close() # tarファイルをクローズ"
   ]
  },
  {
   "cell_type": "code",
   "execution_count": 10,
   "metadata": {},
   "outputs": [
    {
     "name": "stdout",
     "output_type": "stream",
     "text": [
      "CPU times: user 4 µs, sys: 0 ns, total: 4 µs\n",
      "Wall time: 5.01 µs\n"
     ]
    }
   ],
   "source": [
    "%%time\n",
    "\"\"\"\n",
    "3. SSDで使用するVGG16の学習済みの重みを「weights」をダウンロードする\n",
    "\"\"\"\n",
    "\n",
    "url = 'https://s3.amazonaws.com/amdegroot-models/vgg16_reducedfc.pth'\n",
    "target_path = os.path.join(weight_dir, 'vgg16_reducedfc.pth')\n",
    "\n",
    "# if not os.path.exists(target_path):\n",
    "#     urllib.request.urlretrieve(url, target_path)"
   ]
  },
  {
   "cell_type": "code",
   "execution_count": 11,
   "metadata": {},
   "outputs": [
    {
     "name": "stdout",
     "output_type": "stream",
     "text": [
      "CPU times: user 3 µs, sys: 0 ns, total: 3 µs\n",
      "Wall time: 3.81 µs\n"
     ]
    }
   ],
   "source": [
    "%%time\n",
    "\"\"\"\n",
    "4. SSD300の学習済みの重みを「weights」フォルダーにダウンロードする\n",
    "\"\"\"\n",
    "\n",
    "url = 'https://s3.amazonaws.com/amdegroot-models/ssd300_mAP_77.43_v2.pth'\n",
    "target_path = os.path.join(weight_dir, 'ssd300_mAP_77.43_v2.pth')\n",
    "\n",
    "# if not os.path.exists(target_path):\n",
    "#     urllib.request.urlretrieve(url, target_path)"
   ]
  },
  {
   "cell_type": "code",
   "execution_count": null,
   "metadata": {},
   "outputs": [],
   "source": []
  }
 ],
 "metadata": {
  "kernelspec": {
   "display_name": "GanAutoencoder",
   "language": "python",
   "name": "python3"
  },
  "language_info": {
   "codemirror_mode": {
    "name": "ipython",
    "version": 3
   },
   "file_extension": ".py",
   "mimetype": "text/x-python",
   "name": "python",
   "nbconvert_exporter": "python",
   "pygments_lexer": "ipython3",
   "version": "3.11.7"
  }
 },
 "nbformat": 4,
 "nbformat_minor": 2
}
