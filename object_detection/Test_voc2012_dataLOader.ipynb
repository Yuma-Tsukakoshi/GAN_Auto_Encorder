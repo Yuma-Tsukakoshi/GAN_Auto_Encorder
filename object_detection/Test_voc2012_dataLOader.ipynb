{
 "cells": [
  {
   "cell_type": "code",
   "execution_count": 7,
   "metadata": {},
   "outputs": [
    {
     "name": "stdout",
     "output_type": "stream",
     "text": [
      "./data/VOCtrainval_11-May-2012.tar/VOCdevkit/VOC2012/JPEGImages/2008_000008.jpg\n",
      "./data/VOCtrainval_11-May-2012.tar/VOCdevkit/VOC2012/Annotations/2008_000008.xml\n",
      "./data/VOCtrainval_11-May-2012.tar/VOCdevkit/VOC2012/JPEGImages/2008_000002.jpg\n",
      "./data/VOCtrainval_11-May-2012.tar/VOCdevkit/VOC2012/Annotations/2008_000002.xml\n"
     ]
    }
   ],
   "source": [
    "from voc  import make_filepath_list\n",
    "\n",
    "rootpath = './data/VOCtrainval_11-May-2012.tar/VOCdevkit/VOC2012/'\n",
    "\n",
    "\n",
    "tr_img, tr_anno, val_img, val_anno = make_filepath_list(rootpath)\n",
    "\n",
    "print(tr_img[0])\n",
    "print(tr_anno[0])\n",
    "print(val_img[0])\n",
    "print(val_anno[0])"
   ]
  }
 ],
 "metadata": {
  "kernelspec": {
   "display_name": "GanAutoencoder",
   "language": "python",
   "name": "python3"
  },
  "language_info": {
   "codemirror_mode": {
    "name": "ipython",
    "version": 3
   },
   "file_extension": ".py",
   "mimetype": "text/x-python",
   "name": "python",
   "nbconvert_exporter": "python",
   "pygments_lexer": "ipython3",
   "version": "3.11.7"
  }
 },
 "nbformat": 4,
 "nbformat_minor": 2
}
